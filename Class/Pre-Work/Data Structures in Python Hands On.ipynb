{
 "cells": [
  {
   "cell_type": "code",
   "execution_count": 1,
   "id": "ae728f67-1975-441c-8687-5bd1987f8293",
   "metadata": {
    "tags": []
   },
   "outputs": [
    {
     "data": {
      "text/plain": [
       "[]"
      ]
     },
     "execution_count": 1,
     "metadata": {},
     "output_type": "execute_result"
    }
   ],
   "source": [
    "#create a empty list\n",
    "empty_list = []\n",
    "empty_list"
   ]
  },
  {
   "cell_type": "code",
   "execution_count": 3,
   "id": "7f98686f-f1d0-403b-a79c-608505f880bc",
   "metadata": {
    "tags": []
   },
   "outputs": [
    {
     "ename": "SyntaxError",
     "evalue": "invalid syntax (122241504.py, line 2)",
     "output_type": "error",
     "traceback": [
      "\u001b[1;36m  Cell \u001b[1;32mIn[3], line 2\u001b[1;36m\u001b[0m\n\u001b[1;33m    my_list = [[this,is,list,one],[this,is,list,two]]\u001b[0m\n\u001b[1;37m                     ^\u001b[0m\n\u001b[1;31mSyntaxError\u001b[0m\u001b[1;31m:\u001b[0m invalid syntax\n"
     ]
    }
   ],
   "source": [
    "#create nested list\n",
    "my_list = [[this,is,list,one],[this,is,list,two]]\n",
    "my_list"
   ]
  },
  {
   "cell_type": "code",
   "execution_count": null,
   "id": "b5b2023a-1999-4525-a33b-00a586e55ad7",
   "metadata": {},
   "outputs": [],
   "source": []
  },
  {
   "cell_type": "code",
   "execution_count": 5,
   "id": "d4b02546-aef8-4acd-af6b-37d3ef74dd16",
   "metadata": {
    "tags": []
   },
   "outputs": [
    {
     "data": {
      "text/plain": [
       "[['this', 'is', 'list', 'one'], [1, 2, 3, 4]]"
      ]
     },
     "execution_count": 5,
     "metadata": {},
     "output_type": "execute_result"
    }
   ],
   "source": [
    "#create nested list\n",
    "my_list = [['this','is','list','one'],[1,2,3,4]]\n",
    "my_list"
   ]
  },
  {
   "cell_type": "code",
   "execution_count": null,
   "id": "90f42860-5848-49a6-a63e-dcae4da8117f",
   "metadata": {},
   "outputs": [],
   "source": []
  },
  {
   "cell_type": "code",
   "execution_count": 6,
   "id": "9a37d354-3be1-48c7-8796-5eeb645be573",
   "metadata": {
    "tags": []
   },
   "outputs": [
    {
     "data": {
      "text/plain": [
       "[['this', 'is', 'list', 'one'], ['this', 'is', 'list', 'two']]"
      ]
     },
     "execution_count": 6,
     "metadata": {},
     "output_type": "execute_result"
    }
   ],
   "source": [
    "#create nested list\n",
    "my_list = [['this','is','list','one'],['this','is','list','two']]\n",
    "my_list"
   ]
  },
  {
   "cell_type": "code",
   "execution_count": 6,
   "id": "c1bea3e3-93db-4a65-b2ca-b837adef861f",
   "metadata": {},
   "outputs": [
    {
     "name": "stdout",
     "output_type": "stream",
     "text": [
      "Data\n"
     ]
    }
   ],
   "source": [
    "#indexs help access the list elements\n",
    "fun = ['Data','friends','test']\n",
    "#elements of a list begin with 0, so 0 should be data, same with negative begins from left . negative starts with 1\n",
    "print(fun[-3])"
   ]
  },
  {
   "cell_type": "code",
   "execution_count": 7,
   "id": "92c9bba9",
   "metadata": {},
   "outputs": [],
   "source": [
    "#slice lists lets you look at multiple elements of the list"
   ]
  },
  {
   "cell_type": "code",
   "execution_count": 29,
   "id": "81ea39ef",
   "metadata": {},
   "outputs": [
    {
     "data": {
      "text/plain": [
       "['Data', 'friends', 'test', 'buddies', 'lets go', 'drink']"
      ]
     },
     "execution_count": 29,
     "metadata": {},
     "output_type": "execute_result"
    }
   ],
   "source": [
    "course = ['Data','friends','test','buddies','lets go','drink']\n",
    "course[:]"
   ]
  },
  {
   "cell_type": "code",
   "execution_count": 17,
   "id": "0f717d02",
   "metadata": {},
   "outputs": [],
   "source": [
    "#colon access multiple items from the back or front of the list\n"
   ]
  },
  {
   "cell_type": "code",
   "execution_count": 21,
   "id": "a412e1d1",
   "metadata": {},
   "outputs": [
    {
     "data": {
      "text/plain": [
       "['test', 'lets go']"
      ]
     },
     "execution_count": 21,
     "metadata": {},
     "output_type": "execute_result"
    }
   ],
   "source": [
    "course[2:5:2]"
   ]
  },
  {
   "cell_type": "code",
   "execution_count": 22,
   "id": "0d40ab88",
   "metadata": {},
   "outputs": [],
   "source": [
    "#first 2 says where to begin. last 2 means take steps of. middle element is where to stop"
   ]
  },
  {
   "cell_type": "code",
   "execution_count": 27,
   "id": "a4c896bf",
   "metadata": {},
   "outputs": [
    {
     "data": {
      "text/plain": [
       "['Data', 'friends', 'test', 'time', 'lets go', 'drink']"
      ]
     },
     "execution_count": 27,
     "metadata": {},
     "output_type": "execute_result"
    }
   ],
   "source": [
    "# can change elements of a list by using equal like:\n",
    "course[3] = 'time'\n",
    "course"
   ]
  },
  {
   "cell_type": "code",
   "execution_count": 30,
   "id": "fccd50de",
   "metadata": {},
   "outputs": [],
   "source": [
    "#list methods\n",
    "#python is an object oriented language. ie something is created as a list, a set of methods is also created that can be applied\n",
    "#a method is like a function"
   ]
  },
  {
   "cell_type": "code",
   "execution_count": 33,
   "id": "a2dba13f",
   "metadata": {},
   "outputs": [
    {
     "data": {
      "text/plain": [
       "['Data', 'friends', 'test', 'buddies', 'lets go', 'drink', ['statistics']]"
      ]
     },
     "execution_count": 33,
     "metadata": {},
     "output_type": "execute_result"
    }
   ],
   "source": [
    "course1 = ['Data','friends','test','buddies','lets go','drink']\n",
    "course2 = ['statistics']\n",
    "#add an item via appending it with an argument\n",
    "course1.append(course2)\n",
    "course1"
   ]
  },
  {
   "cell_type": "code",
   "execution_count": 34,
   "id": "8fdfc1f4",
   "metadata": {},
   "outputs": [],
   "source": [
    "#this is operating the function append onto course 2 as an argument. many languages do this via functions\n",
    "#object oriented makes it easier via applying directly"
   ]
  },
  {
   "cell_type": "markdown",
   "id": "13723ec3",
   "metadata": {},
   "source": [
    "#these are the methods\n",
    "append()=adds other items to the list and creates a list of lists\n",
    "insert()= adding an addition in a certain position 2 arguements, where-1 and what-2 (1,2)\n",
    "extend() = adding something at the end\n",
    "del = this is an operator of python, can delete a specific area or more. this is not a method or function, it's an operator\n",
    "remove() = removes an item like insert. method approach to del\n",
    "pop() = removes and returns the last item of a list. if you specify an argument it remove that number over\n",
    "reverse() = flips the order of th elist\n",
    "lists can be combined via concatenation. basically + symbol, together with. this is not  alist of list"
   ]
  },
  {
   "cell_type": "code",
   "execution_count": 37,
   "id": "859cfe51",
   "metadata": {},
   "outputs": [
    {
     "data": {
      "text/plain": [
       "['Data',\n",
       " 'friends',\n",
       " 'test',\n",
       " 'buddies',\n",
       " 'lets go',\n",
       " 'drink',\n",
       " ['statistics'],\n",
       " 'statistics']"
      ]
     },
     "execution_count": 37,
     "metadata": {},
     "output_type": "execute_result"
    }
   ],
   "source": [
    "course1+course2"
   ]
  },
  {
   "cell_type": "code",
   "execution_count": 40,
   "id": "2e0fcc82",
   "metadata": {},
   "outputs": [
    {
     "data": {
      "text/plain": [
       "['Data',\n",
       " 'friends',\n",
       " 'test',\n",
       " 'buddies',\n",
       " 'lets go',\n",
       " 'drink',\n",
       " ['statistics'],\n",
       " 'Data',\n",
       " 'friends',\n",
       " 'test',\n",
       " 'buddies',\n",
       " 'lets go',\n",
       " 'drink',\n",
       " ['statistics']]"
      ]
     },
     "execution_count": 40,
     "metadata": {},
     "output_type": "execute_result"
    }
   ],
   "source": [
    "course1*2"
   ]
  },
  {
   "cell_type": "code",
   "execution_count": 41,
   "id": "e673ecdc",
   "metadata": {},
   "outputs": [
    {
     "data": {
      "text/plain": [
       "[34, 'Great', 'Hi', 60.7, True, 'Data']"
      ]
     },
     "execution_count": 41,
     "metadata": {},
     "output_type": "execute_result"
    }
   ],
   "source": [
    "my_list = [34, \"Great\", 60.7, True, \"Data\"]\n",
    "my_list.insert(2, \"Hi\")\n",
    "my_list"
   ]
  },
  {
   "cell_type": "code",
   "execution_count": 42,
   "id": "a7c2d263",
   "metadata": {},
   "outputs": [
    {
     "data": {
      "text/plain": [
       "[34, 60.7, True, 'Data', 'Great']"
      ]
     },
     "execution_count": 42,
     "metadata": {},
     "output_type": "execute_result"
    }
   ],
   "source": [
    "my_list = [34, \"Great\", 60.7, True, \"Data\", \"Great\"]\n",
    "my_list.remove(\"Great\")\n",
    "my_list"
   ]
  },
  {
   "cell_type": "markdown",
   "id": "2a8532bb",
   "metadata": {},
   "source": [
    "so 1 great only removes singlular context of great"
   ]
  },
  {
   "cell_type": "markdown",
   "id": "b808712a",
   "metadata": {},
   "source": [
    "tuples like things in order. they allow for more math operations inside them unlike lists\n",
    "if only strings lists are okay"
   ]
  },
  {
   "cell_type": "code",
   "execution_count": 45,
   "id": "2e6a1b58",
   "metadata": {},
   "outputs": [
    {
     "name": "stdout",
     "output_type": "stream",
     "text": [
      "(123, 2.24, 'fun time')\n"
     ]
    }
   ],
   "source": [
    "#tuples\n",
    "my_tuple = (123, 2.24, 'fun time')\n",
    "print(my_tuple)"
   ]
  },
  {
   "cell_type": "code",
   "execution_count": 47,
   "id": "3a929bfa",
   "metadata": {},
   "outputs": [
    {
     "data": {
      "text/plain": [
       "2.24"
      ]
     },
     "execution_count": 47,
     "metadata": {},
     "output_type": "execute_result"
    }
   ],
   "source": [
    "#a list can be included inside of a tuple. not vice versa\n",
    "my_tuple[1]"
   ]
  },
  {
   "cell_type": "code",
   "execution_count": 48,
   "id": "02b2b5ff",
   "metadata": {},
   "outputs": [
    {
     "ename": "TypeError",
     "evalue": "'tuple' object does not support item assignment",
     "output_type": "error",
     "traceback": [
      "\u001b[1;31m---------------------------------------------------------------------------\u001b[0m",
      "\u001b[1;31mTypeError\u001b[0m                                 Traceback (most recent call last)",
      "Cell \u001b[1;32mIn[48], line 2\u001b[0m\n\u001b[0;32m      1\u001b[0m \u001b[38;5;66;03m#changing values of tuple can't normally be done easily\u001b[39;00m\n\u001b[1;32m----> 2\u001b[0m my_tuple[\u001b[38;5;241m0\u001b[39m] \u001b[38;5;241m=\u001b[39m \u001b[38;5;124m'\u001b[39m\u001b[38;5;124morange\u001b[39m\u001b[38;5;124m'\u001b[39m\n",
      "\u001b[1;31mTypeError\u001b[0m: 'tuple' object does not support item assignment"
     ]
    }
   ],
   "source": [
    "#changing values of tuple can't normally be done easily. can't change values but can change lists inside a tuple\n",
    "my_tuple[0] = 'orange'"
   ]
  },
  {
   "cell_type": "markdown",
   "id": "ab8b5613",
   "metadata": {},
   "source": [
    "there are functions and methods that can be applied to tuples because they can't be change\n",
    "they can be counted\n",
    "indexed, which searches for values\n",
    "sorted using sorted function"
   ]
  },
  {
   "cell_type": "code",
   "execution_count": 51,
   "id": "fbec0435",
   "metadata": {},
   "outputs": [
    {
     "data": {
      "text/plain": [
       "2"
      ]
     },
     "execution_count": 51,
     "metadata": {},
     "output_type": "execute_result"
    }
   ],
   "source": [
    "test_tuple = (1,2,3,4,5,6,7,8,9,1,3)\n",
    "test_tuple.count(3)"
   ]
  },
  {
   "cell_type": "code",
   "execution_count": 52,
   "id": "4aec95c4",
   "metadata": {},
   "outputs": [
    {
     "data": {
      "text/plain": [
       "0"
      ]
     },
     "execution_count": 52,
     "metadata": {},
     "output_type": "execute_result"
    }
   ],
   "source": [
    "test_tuple.index(1)"
   ]
  },
  {
   "cell_type": "code",
   "execution_count": 53,
   "id": "9e092ed0",
   "metadata": {},
   "outputs": [
    {
     "data": {
      "text/plain": [
       "[1, 1, 2, 3, 3, 4, 5, 6, 7, 8, 9]"
      ]
     },
     "execution_count": 53,
     "metadata": {},
     "output_type": "execute_result"
    }
   ],
   "source": [
    "sorted(test_tuple)"
   ]
  },
  {
   "cell_type": "markdown",
   "id": "4241b7a9",
   "metadata": {},
   "source": [
    "sorted only works if it has strings or numbers not both\n",
    "a dictionary is a way to sort a list or arrangement \n",
    "allows you to see the order, specified as a key value and the value associated \n",
    "{} = dictionary\n",
    "[] = list\n",
    "() = tuple\n",
    "balance is the defined dictionary in my example\n",
    "balance.get() and balance[] do the same thing"
   ]
  },
  {
   "cell_type": "code",
   "execution_count": 54,
   "id": "fdf1b8cf",
   "metadata": {},
   "outputs": [
    {
     "name": "stdout",
     "output_type": "stream",
     "text": [
      "{'John': 6347586, 'Jacob': 78345783, 'Jingle': 7324879}\n"
     ]
    }
   ],
   "source": [
    "#create a dictionary\n",
    "balance = {\n",
    "    \"John\" : 6347586,\n",
    "    \"Jacob\" : 78345783,\n",
    "    \"Jingle\" : 7324879\n",
    "}\n",
    "print(balance)"
   ]
  },
  {
   "cell_type": "code",
   "execution_count": 56,
   "id": "73f705f9",
   "metadata": {},
   "outputs": [
    {
     "data": {
      "text/plain": [
       "78345783"
      ]
     },
     "execution_count": 56,
     "metadata": {},
     "output_type": "execute_result"
    }
   ],
   "source": [
    "#dictioaries can be accessed by specific values\n",
    "x = balance[\"Jacob\"]\n",
    "x"
   ]
  },
  {
   "cell_type": "code",
   "execution_count": 57,
   "id": "10f8fe87",
   "metadata": {},
   "outputs": [
    {
     "data": {
      "text/plain": [
       "7324879"
      ]
     },
     "execution_count": 57,
     "metadata": {},
     "output_type": "execute_result"
    }
   ],
   "source": [
    "x = balance.get(\"Jingle\")\n",
    "x"
   ]
  },
  {
   "cell_type": "markdown",
   "id": "82030efb",
   "metadata": {},
   "source": [
    "values can be reassigned for disctionaries"
   ]
  },
  {
   "cell_type": "code",
   "execution_count": 58,
   "id": "c0ed60c0",
   "metadata": {},
   "outputs": [
    {
     "data": {
      "text/plain": [
       "{'John': 6347586, 'Jacob': 78345783, 'Jingle': 6235479}"
      ]
     },
     "execution_count": 58,
     "metadata": {},
     "output_type": "execute_result"
    }
   ],
   "source": [
    "balance[\"Jingle\"] = 6235479\n",
    "balance"
   ]
  },
  {
   "cell_type": "code",
   "execution_count": 59,
   "id": "f3d74f9e",
   "metadata": {},
   "outputs": [
    {
     "name": "stdout",
     "output_type": "stream",
     "text": [
      "3\n"
     ]
    }
   ],
   "source": [
    "print(len(balance))"
   ]
  },
  {
   "cell_type": "code",
   "execution_count": 60,
   "id": "4eca78fc",
   "metadata": {},
   "outputs": [
    {
     "data": {
      "text/plain": [
       "{'John': 6347586, 'Jacob': 78345783, 'Jingle': 6235479, 'Schmit': 6432874}"
      ]
     },
     "execution_count": 60,
     "metadata": {},
     "output_type": "execute_result"
    }
   ],
   "source": [
    "balance[\"Schmit\"] = 6432874\n",
    "balance"
   ]
  },
  {
   "cell_type": "markdown",
   "id": "f4df1cce",
   "metadata": {},
   "source": [
    "same values such as pop removes temp and del removes the line\n",
    "clear is a harsh form, not recommended unless really need. clear does all\n",
    "balance.clear()\n",
    "dictionaries can't be converted from one to another can't be done easily. simialr to databases"
   ]
  },
  {
   "cell_type": "code",
   "execution_count": 65,
   "id": "d87a03ce",
   "metadata": {},
   "outputs": [
    {
     "data": {
      "text/plain": [
       "{'John': 6347586, 'Jacob': 78345783, 'Jingle': 6235479, 'Schmit': 6432874}"
      ]
     },
     "execution_count": 65,
     "metadata": {},
     "output_type": "execute_result"
    }
   ],
   "source": [
    "#they can be copied. .copy() is how you copy\n",
    "copy_dict = balance.copy()\n",
    "copy_dict"
   ]
  },
  {
   "cell_type": "code",
   "execution_count": 66,
   "id": "a3919806",
   "metadata": {},
   "outputs": [
    {
     "data": {
      "text/plain": [
       "{'John': 6347586, 'Jacob': 78345783, 'Jingle': 6235479, 'Schmit': 6432874}"
      ]
     },
     "execution_count": 66,
     "metadata": {},
     "output_type": "execute_result"
    }
   ],
   "source": [
    "copy_dict"
   ]
  },
  {
   "cell_type": "markdown",
   "id": "60542e4d",
   "metadata": {},
   "source": [
    "sorting in a dictionary is for the keys not the values and output the order of the keys"
   ]
  },
  {
   "cell_type": "markdown",
   "id": "7ca37135",
   "metadata": {},
   "source": [
    "a set is something in which sequence doesn't matter. uses {} brackets"
   ]
  },
  {
   "cell_type": "code",
   "execution_count": 67,
   "id": "4ba070ed",
   "metadata": {},
   "outputs": [
    {
     "name": "stdout",
     "output_type": "stream",
     "text": [
      "{1, 2, 3, 4}\n"
     ]
    }
   ],
   "source": [
    "#create a set\n",
    "s = {1,2,3,4,1,2,3,4,1,2,3,4}\n",
    "print (s)"
   ]
  },
  {
   "cell_type": "markdown",
   "id": "70ad732c",
   "metadata": {},
   "source": [
    "only returns distinct elements of the list"
   ]
  }
 ],
 "metadata": {
  "kernelspec": {
   "display_name": "Python 3 (ipykernel)",
   "language": "python",
   "name": "python3"
  },
  "language_info": {
   "codemirror_mode": {
    "name": "ipython",
    "version": 3
   },
   "file_extension": ".py",
   "mimetype": "text/x-python",
   "name": "python",
   "nbconvert_exporter": "python",
   "pygments_lexer": "ipython3",
   "version": "3.11.5"
  }
 },
 "nbformat": 4,
 "nbformat_minor": 5
}
